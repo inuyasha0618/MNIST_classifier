{
 "cells": [
  {
   "cell_type": "code",
   "execution_count": 1,
   "metadata": {
    "collapsed": false
   },
   "outputs": [],
   "source": [
    "import numpy as np\n",
    "import pandas as pd\n",
    "import matplotlib.pyplot as plt\n",
    "from fcnet import *\n",
    "from layers import *\n",
    "from Trainer import *\n",
    "\n",
    "%matplotlib inline\n",
    "%load_ext autoreload\n",
    "%autoreload 2"
   ]
  },
  {
   "cell_type": "code",
   "execution_count": 4,
   "metadata": {
    "collapsed": false
   },
   "outputs": [
    {
     "name": "stdout",
     "output_type": "stream",
     "text": [
      "0        1\n",
      "1        0\n",
      "2        1\n",
      "3        4\n",
      "4        0\n",
      "5        0\n",
      "6        7\n",
      "7        3\n",
      "8        5\n",
      "9        3\n",
      "10       8\n",
      "11       9\n",
      "12       1\n",
      "13       3\n",
      "14       3\n",
      "15       1\n",
      "16       2\n",
      "17       0\n",
      "18       7\n",
      "19       5\n",
      "20       8\n",
      "21       6\n",
      "22       2\n",
      "23       0\n",
      "24       2\n",
      "25       3\n",
      "26       6\n",
      "27       9\n",
      "28       9\n",
      "29       7\n",
      "        ..\n",
      "41970    2\n",
      "41971    3\n",
      "41972    4\n",
      "41973    4\n",
      "41974    3\n",
      "41975    9\n",
      "41976    2\n",
      "41977    4\n",
      "41978    4\n",
      "41979    4\n",
      "41980    7\n",
      "41981    2\n",
      "41982    8\n",
      "41983    7\n",
      "41984    3\n",
      "41985    3\n",
      "41986    0\n",
      "41987    5\n",
      "41988    0\n",
      "41989    5\n",
      "41990    3\n",
      "41991    1\n",
      "41992    9\n",
      "41993    6\n",
      "41994    4\n",
      "41995    0\n",
      "41996    1\n",
      "41997    7\n",
      "41998    6\n",
      "41999    9\n",
      "Name: label, dtype: int64\n"
     ]
    }
   ],
   "source": [
    "labeled_images = pd.read_csv('train.csv')\n",
    "test_images = pd.read_csv('test.csv')\n",
    "\n",
    "print(labeled_images['label'])\n"
   ]
  },
  {
   "cell_type": "code",
   "execution_count": 3,
   "metadata": {
    "collapsed": false
   },
   "outputs": [
    {
     "data": {
      "text/html": [
       "<div>\n",
       "<table border=\"1\" class=\"dataframe\">\n",
       "  <thead>\n",
       "    <tr style=\"text-align: right;\">\n",
       "      <th></th>\n",
       "      <th>label</th>\n",
       "      <th>pixel0</th>\n",
       "      <th>pixel1</th>\n",
       "      <th>pixel2</th>\n",
       "      <th>pixel3</th>\n",
       "      <th>pixel4</th>\n",
       "      <th>pixel5</th>\n",
       "      <th>pixel6</th>\n",
       "      <th>pixel7</th>\n",
       "      <th>pixel8</th>\n",
       "      <th>...</th>\n",
       "      <th>pixel774</th>\n",
       "      <th>pixel775</th>\n",
       "      <th>pixel776</th>\n",
       "      <th>pixel777</th>\n",
       "      <th>pixel778</th>\n",
       "      <th>pixel779</th>\n",
       "      <th>pixel780</th>\n",
       "      <th>pixel781</th>\n",
       "      <th>pixel782</th>\n",
       "      <th>pixel783</th>\n",
       "    </tr>\n",
       "  </thead>\n",
       "  <tbody>\n",
       "    <tr>\n",
       "      <th>0</th>\n",
       "      <td>1</td>\n",
       "      <td>0</td>\n",
       "      <td>0</td>\n",
       "      <td>0</td>\n",
       "      <td>0</td>\n",
       "      <td>0</td>\n",
       "      <td>0</td>\n",
       "      <td>0</td>\n",
       "      <td>0</td>\n",
       "      <td>0</td>\n",
       "      <td>...</td>\n",
       "      <td>0</td>\n",
       "      <td>0</td>\n",
       "      <td>0</td>\n",
       "      <td>0</td>\n",
       "      <td>0</td>\n",
       "      <td>0</td>\n",
       "      <td>0</td>\n",
       "      <td>0</td>\n",
       "      <td>0</td>\n",
       "      <td>0</td>\n",
       "    </tr>\n",
       "    <tr>\n",
       "      <th>1</th>\n",
       "      <td>0</td>\n",
       "      <td>0</td>\n",
       "      <td>0</td>\n",
       "      <td>0</td>\n",
       "      <td>0</td>\n",
       "      <td>0</td>\n",
       "      <td>0</td>\n",
       "      <td>0</td>\n",
       "      <td>0</td>\n",
       "      <td>0</td>\n",
       "      <td>...</td>\n",
       "      <td>0</td>\n",
       "      <td>0</td>\n",
       "      <td>0</td>\n",
       "      <td>0</td>\n",
       "      <td>0</td>\n",
       "      <td>0</td>\n",
       "      <td>0</td>\n",
       "      <td>0</td>\n",
       "      <td>0</td>\n",
       "      <td>0</td>\n",
       "    </tr>\n",
       "    <tr>\n",
       "      <th>2</th>\n",
       "      <td>1</td>\n",
       "      <td>0</td>\n",
       "      <td>0</td>\n",
       "      <td>0</td>\n",
       "      <td>0</td>\n",
       "      <td>0</td>\n",
       "      <td>0</td>\n",
       "      <td>0</td>\n",
       "      <td>0</td>\n",
       "      <td>0</td>\n",
       "      <td>...</td>\n",
       "      <td>0</td>\n",
       "      <td>0</td>\n",
       "      <td>0</td>\n",
       "      <td>0</td>\n",
       "      <td>0</td>\n",
       "      <td>0</td>\n",
       "      <td>0</td>\n",
       "      <td>0</td>\n",
       "      <td>0</td>\n",
       "      <td>0</td>\n",
       "    </tr>\n",
       "    <tr>\n",
       "      <th>3</th>\n",
       "      <td>4</td>\n",
       "      <td>0</td>\n",
       "      <td>0</td>\n",
       "      <td>0</td>\n",
       "      <td>0</td>\n",
       "      <td>0</td>\n",
       "      <td>0</td>\n",
       "      <td>0</td>\n",
       "      <td>0</td>\n",
       "      <td>0</td>\n",
       "      <td>...</td>\n",
       "      <td>0</td>\n",
       "      <td>0</td>\n",
       "      <td>0</td>\n",
       "      <td>0</td>\n",
       "      <td>0</td>\n",
       "      <td>0</td>\n",
       "      <td>0</td>\n",
       "      <td>0</td>\n",
       "      <td>0</td>\n",
       "      <td>0</td>\n",
       "    </tr>\n",
       "    <tr>\n",
       "      <th>4</th>\n",
       "      <td>0</td>\n",
       "      <td>0</td>\n",
       "      <td>0</td>\n",
       "      <td>0</td>\n",
       "      <td>0</td>\n",
       "      <td>0</td>\n",
       "      <td>0</td>\n",
       "      <td>0</td>\n",
       "      <td>0</td>\n",
       "      <td>0</td>\n",
       "      <td>...</td>\n",
       "      <td>0</td>\n",
       "      <td>0</td>\n",
       "      <td>0</td>\n",
       "      <td>0</td>\n",
       "      <td>0</td>\n",
       "      <td>0</td>\n",
       "      <td>0</td>\n",
       "      <td>0</td>\n",
       "      <td>0</td>\n",
       "      <td>0</td>\n",
       "    </tr>\n",
       "  </tbody>\n",
       "</table>\n",
       "<p>5 rows × 785 columns</p>\n",
       "</div>"
      ],
      "text/plain": [
       "   label  pixel0  pixel1  pixel2  pixel3  pixel4  pixel5  pixel6  pixel7  \\\n",
       "0      1       0       0       0       0       0       0       0       0   \n",
       "1      0       0       0       0       0       0       0       0       0   \n",
       "2      1       0       0       0       0       0       0       0       0   \n",
       "3      4       0       0       0       0       0       0       0       0   \n",
       "4      0       0       0       0       0       0       0       0       0   \n",
       "\n",
       "   pixel8    ...     pixel774  pixel775  pixel776  pixel777  pixel778  \\\n",
       "0       0    ...            0         0         0         0         0   \n",
       "1       0    ...            0         0         0         0         0   \n",
       "2       0    ...            0         0         0         0         0   \n",
       "3       0    ...            0         0         0         0         0   \n",
       "4       0    ...            0         0         0         0         0   \n",
       "\n",
       "   pixel779  pixel780  pixel781  pixel782  pixel783  \n",
       "0         0         0         0         0         0  \n",
       "1         0         0         0         0         0  \n",
       "2         0         0         0         0         0  \n",
       "3         0         0         0         0         0  \n",
       "4         0         0         0         0         0  \n",
       "\n",
       "[5 rows x 785 columns]"
      ]
     },
     "execution_count": 3,
     "metadata": {},
     "output_type": "execute_result"
    }
   ],
   "source": [
    "labeled_images.head()"
   ]
  },
  {
   "cell_type": "code",
   "execution_count": null,
   "metadata": {
    "collapsed": true
   },
   "outputs": [],
   "source": []
  },
  {
   "cell_type": "code",
   "execution_count": 71,
   "metadata": {
    "collapsed": false
   },
   "outputs": [],
   "source": [
    "labels = labeled_images.iloc[:, 0].as_matrix()\n",
    "images = labeled_images.iloc[:, 1:].as_matrix()"
   ]
  },
  {
   "cell_type": "code",
   "execution_count": 72,
   "metadata": {
    "collapsed": false
   },
   "outputs": [
    {
     "name": "stdout",
     "output_type": "stream",
     "text": [
      "(28000, 784)\n"
     ]
    },
    {
     "data": {
      "image/png": "[encoded data removed]",
      "text/plain": [
       "<matplotlib.figure.Figure at 0x114893850>"
      ]
     },
     "metadata": {},
     "output_type": "display_data"
    }
   ],
   "source": [
    "i = 618\n",
    "img = images[i].reshape(28, 28)\n",
    "plt.imshow(img, cmap='gray')\n",
    "plt.title(labels[i])\n",
    "\n",
    "image_test = test_images.as_matrix()\n",
    "print(image_test.shape)"
   ]
  },
  {
   "cell_type": "code",
   "execution_count": 79,
   "metadata": {
    "collapsed": true
   },
   "outputs": [],
   "source": [
    "num_train = 32000\n",
    "image_train = images[:num_train]\n",
    "label_train = labels[:num_train]\n",
    "\n",
    "image_val = images[num_train:]\n",
    "label_val = labels[num_train:]\n"
   ]
  },
  {
   "cell_type": "code",
   "execution_count": 80,
   "metadata": {
    "collapsed": false
   },
   "outputs": [],
   "source": [
    "data = {'X_train': image_train, 'y_train': label_train, 'X_val': image_val, 'y_val': label_val}\n",
    "# net = FullyConnectNet(layers=[200, 10], input_dim=28*28, reg=1e-1, weight_scale=1e-2)\n",
    "# trainer = Trainer(net, data, batch_size=100, epoch_nums=10)"
   ]
  },
  {
   "cell_type": "code",
   "execution_count": 89,
   "metadata": {
    "collapsed": false
   },
   "outputs": [
    {
     "name": "stdout",
     "output_type": "stream",
     "text": [
      "learning_rate 0.004968 weight_scale 0.038397  train acc 0.097531 val acc 0.101100\n",
      "learning_rate 0.004968 weight_scale 0.021065  train acc 0.097531 val acc 0.101100\n",
      "learning_rate 0.004968 weight_scale 0.003947  train acc 0.984781 val acc 0.967700\n",
      "learning_rate 0.002524 weight_scale 0.038397  train acc 0.097531 val acc 0.101100\n",
      "learning_rate 0.002524 weight_scale 0.021065  train acc 0.990187 val acc 0.969200\n",
      "learning_rate 0.002524 weight_scale 0.003947  train acc 0.991781 val acc 0.972500\n",
      "learning_rate 0.001439 weight_scale 0.038397  train acc 0.097531 val acc 0.101100\n",
      "learning_rate 0.001439 weight_scale 0.021065  train acc 0.988656 val acc 0.963800\n",
      "learning_rate 0.001439 weight_scale 0.003947  train acc 0.990688 val acc 0.975000\n",
      "learning_rate 0.005451 weight_scale 0.038397  train acc 0.097531 val acc 0.101100\n",
      "learning_rate 0.005451 weight_scale 0.021065  train acc 0.097531 val acc 0.101100\n",
      "learning_rate 0.005451 weight_scale 0.003947  train acc 0.965781 val acc 0.951400\n",
      "learning_rate 0.003139 weight_scale 0.038397  train acc 0.097531 val acc 0.101100\n",
      "learning_rate 0.003139 weight_scale 0.021065  train acc 0.989000 val acc 0.968000\n",
      "learning_rate 0.003139 weight_scale 0.003947  train acc 0.993875 val acc 0.976200\n"
     ]
    }
   ],
   "source": [
    "learn_rates = 10 ** np.random.uniform(-3, -2, 5)\n",
    "weight_scales = 10 ** np.random.uniform(-3, -1, 3)\n",
    "\n",
    "best_net = None\n",
    "\n",
    "best_lr = None\n",
    "\n",
    "best_ws = None\n",
    "\n",
    "best_val_acc = 0\n",
    "\n",
    "for lr in learn_rates:\n",
    "    for ws in weight_scales:\n",
    "        net = FullyConnectNet(layers=[200, 10], input_dim=28*28, reg=1e-1, weight_scale=ws)\n",
    "        trainer = Trainer(net, data, batch_size=100, epoch_nums=10, learning_rate=lr)\n",
    "        _ = trainer.train()\n",
    "        train_acc = trainer.check_train_accuracy()\n",
    "        val_acc = trainer.check_val_accuracy()\n",
    "        \n",
    "        if val_acc > best_val_acc:\n",
    "            best_net = net\n",
    "        \n",
    "        print('learning_rate %f weight_scale %f  train acc %f val acc %f'%(lr, ws, train_acc, val_acc))"
   ]
  },
  {
   "cell_type": "code",
   "execution_count": 85,
   "metadata": {
    "collapsed": false
   },
   "outputs": [],
   "source": [
    "predict_labels = best_net.predict(image_test)"
   ]
  },
  {
   "cell_type": "code",
   "execution_count": 86,
   "metadata": {
    "collapsed": true
   },
   "outputs": [],
   "source": [
    "df = pd.DataFrame(predict_labels, columns=['Label'])\n",
    "df.index += 1\n",
    "df.index.name = 'ImageId'"
   ]
  },
  {
   "cell_type": "code",
   "execution_count": 87,
   "metadata": {
    "collapsed": false
   },
   "outputs": [
    {
     "name": "stdout",
     "output_type": "stream",
     "text": [
      "         Label\n",
      "ImageId       \n",
      "1            2\n",
      "2            0\n",
      "3            9\n",
      "4            9\n",
      "5            3\n",
      "6            7\n",
      "7            0\n",
      "8            3\n",
      "9            0\n",
      "10           3\n"
     ]
    }
   ],
   "source": [
    "print(df[:10])"
   ]
  },
  {
   "cell_type": "code",
   "execution_count": 88,
   "metadata": {
    "collapsed": true
   },
   "outputs": [],
   "source": [
    "df.to_csv('result.csv')"
   ]
  },
  {
   "cell_type": "code",
   "execution_count": null,
   "metadata": {
    "collapsed": true
   },
   "outputs": [],
   "source": []
  }
 ],
 "metadata": {
  "kernelspec": {
   "display_name": "Python 2",
   "language": "python",
   "name": "python2"
  },
  "language_info": {
   "codemirror_mode": {
    "name": "ipython",
    "version": 2
   },
   "file_extension": ".py",
   "mimetype": "text/x-python",
   "name": "python",
   "nbconvert_exporter": "python",
   "pygments_lexer": "ipython2",
   "version": "2.7.13"
  }
 },
 "nbformat": 4,
 "nbformat_minor": 2
}
